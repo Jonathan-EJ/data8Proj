{
 "cells": [
  {
   "cell_type": "code",
   "execution_count": 2,
   "metadata": {},
   "outputs": [
    {
     "name": "stdout",
     "output_type": "stream",
     "text": [
      "=====================================================================\n",
      "Assignment: Final Project: Household Wealth in the United States\n",
      "OK, version v1.12.5\n",
      "=====================================================================\n",
      "\n",
      "Successfully logged in as samnelson@berkeley.edu\n"
     ]
    }
   ],
   "source": [
    "# modules for research report\n",
    "from datascience import *\n",
    "import numpy as np\n",
    "import random\n",
    "import re\n",
    "%matplotlib inline\n",
    "import matplotlib.pyplot as plots\n",
    "plots.style.use('fivethirtyeight')\n",
    "\n",
    "# module for YouTube video\n",
    "from IPython.display import YouTubeVideo\n",
    "\n",
    "# okpy config\n",
    "from client.api.notebook import Notebook\n",
    "ok = Notebook('wealth-final-project.ok')\n",
    "_ = ok.auth(inline=True)"
   ]
  },
  {
   "cell_type": "markdown",
   "metadata": {},
   "source": [
    "# Family & Household Wealth in the United States (2009-2013)\n",
    "\n",
    "This dataset was originally published as part of household-specific data from the American Community Survey (ACS) — a yearly, ongoing\n",
    "survey conducted by the U.S. Census Bureau — Public Use Microdata Sample (PUMS). This dataset is taken from the ACS 5-year PUMS,\n",
    "spanning the years 2009-2013, and it has been cleaned for your convenience. All observations and variables not of interest have been\n",
    "removed, and a random sample of the data containing 1,200 entries has been provided. A brief description of the dataset is provided\n",
    "below.\n",
    "\n",
    "**NB: You may not copy any public analyses of this dataset. Doing so will result in a zero.**"
   ]
  },
  {
   "cell_type": "markdown",
   "metadata": {},
   "source": [
    "## Summary\n",
    "\n",
    "The origins of the ACS can be traced back to the mid-20th century. That is, the postwar period in the United States that saw massive\n",
    "population growth and swiftly changing household, urban and rural demographics. Beginning in the 1960s, lawmakers, unable to get\n",
    "actionable data about their rapidly changing communities from the once-every-ten-years Census, started to look for\n",
    "ways to get more immediate information about the people in their districts.\n",
    "\n",
    "It wasn't until the 1990s, however, that plans to get more frequent Census-type data came to fruition. Congress, seeing a drop in\n",
    "Census response rates as a result of its burdensome length, directed the U.S. Census Bureau to develop different ways to get the\n",
    "much needed information. The U.S. Census Bureau, in concert with statisticians from other organizations, eventually developed a\n",
    "yearly survey now known as the ACS. The ACS was officially launched in 2005. \n",
    "\n",
    "According to the [U.S. Census Bureau website](https://www.census.gov/programs-surveys/acs/geography-acs/areas-published.html): \n",
    ">“American Community Survey (ACS) data are tabulated for a variety of different geographic areas ranging in size from broad geographic\n",
    "regions to cities, towns, county subdivisions, and block groups.” \n"
   ]
  },
  {
   "cell_type": "markdown",
   "metadata": {},
   "source": [
    "## Disclaimer\n",
    "\n",
    "At the time this data was collected, the U.S. Census Bureau and the ACS only considered binary, opposite-sex couples in the context of marital status; any time this dataset mentions a married pair or a spouse, it is referring to an opposite-sex couple or partner. This dataset covers the period 2009-2013, when same-sex marriage had not yet been legalized under U.S. federal law, though some states maintained legal same-sex marriage during this time period."
   ]
  },
  {
   "cell_type": "markdown",
   "metadata": {},
   "source": [
    "## Data Description\n",
    "\n",
    "This dataset utilizes the following abbreviations:\n",
    "* `GQ`: group quarters\n",
    "* `Non-Family`: a household that is not associated with any family. If referring to an individual, the respondent is considered a member of group quarters. If referring to a property, the property is considered vacant. \n",
    "\n",
    "This dataset contains three tables, included in the `data` folder:\n",
    "1. `families_data` provides information about characteristics of each household.\n",
    "2. `resources_data` provides information about the resources available to each household.\n",
    "3. `states_data` provides the full names and abbreviations of U.S. states as strings, as well as an integer code for each state that corresponds to the integer codes found in the previous two tables. \n",
    "\n",
    "A description of each table's variables is provided below:\n",
    "1. `families data`:\n",
    "    * `ID`: a unique identifier for each household\n",
    "    * `REGION`: region of the United States \n",
    "    * `DIVISION`: division of the United States, more specific than region\n",
    "    * `STATE`: state of the United States\n",
    "    * `FAMILY INCOME`: yearly income by family, not adjusted for inflation\n",
    "    * `HOUSEHOLD LANGUAGE`: description of the geographic area from which the main household language is originally. The categories for Household Language are as follows: English only, and Other Non-English.\n",
    "    * `HOUSEHOLD INCOME`: yearly income by household, not adjusted for inflation \n",
    "    * `WORKERS IN FAMILY`: number of workers in each family \n",
    "    * `PERSONS IN FAMILY`: number of persons in each family\n",
    "     \n",
    "    \n",
    "\n",
    "2. `resources_data`: \n",
    "    * `ID`: a unique identifier for each household\n",
    "    * `REGION`: region of the United States \n",
    "    * `DIVISION`: division of the United States, more specific than region\n",
    "    * `STATE`: state of the United States \n",
    "    * `MONTHLY RENT`: the monthly rent each renting household is paying. If the property is owned by the household, this value is the string \"Owner\". \n",
    "    * `GROSS MONTHLY RENT`: the gross rent (monthly amount) each renting household is paying. If the property is owned by the household, this value is the string \"Owner\". \n",
    "    * `OCCUPANCY STATUS`: description of the occupancy status for a particular property; for example: “owned free and clear” or “rented.” \n",
    "    * `NUMBER OF VEHICLES`: number of vehicles a particular household has access to. \n",
    "    * `HOUSEHOLD TELEPHONE`: a binary variable, whether or not a household has access to a telephone.\n",
    "    * `PROPERTY VALUE`: The value of property in dollars ($).\n",
    "    \n",
    "    \n",
    "    \n",
    "3. `states_data`:\n",
    "    * `CODE`: number for reference in original table\n",
    "    * `FULL NAME`: full state name\n",
    "    * `ABRV`: abbreviation\n"
   ]
  },
  {
   "cell_type": "markdown",
   "metadata": {},
   "source": [
    "## Note about Non-Family Values\n",
    "\n",
    "Many values in the table below are categorized as \"non-family\" if the census respondent is not part of a family unit (e.g. the respondent\n",
    "resides in group quarters). Our data contains a lot of family-specific data, like `FAMILY INCOME` or `PERSONS IN FAMILY`; it wouldn't\n",
    "make sense for a person who is not part of a family to have responses to those. \n",
    "\n",
    "Non-family respondents, however, account for a significant portion of census data — roughly between 15%-30%, depending on the sample.\n",
    "If you would like to work with the non-family respondent data, we encourage you to consider non-family-dependent variables, like\n",
    "`HOUSEHOLD INCOME` or `PROPERTY VALUE`, among others. If, however, you do not want to work with these variables, we encourage you\n",
    "to filter out these variables (in a process called \"data cleaning\") from your data before you get started. \n",
    "\n",
    "*Hint: if you want to clean your data so that non-family values do not appear, consider filtering using `.where`.*"
   ]
  },
  {
   "cell_type": "markdown",
   "metadata": {},
   "source": [
    "## Inspiration\n",
    "\n",
    "A variety of exploratory analyses, hypothesis tests, and predictions problems can be tackled with this data. Here are a few ideas to get you started:\n",
    "\n",
    "1. Is there a relationship between property value and English-only-speaking households? \n",
    "2. Is there a significant difference in monthly rent for households in the West region of the United States compared to the Northeast region? \n",
    "3. How do rows containing ‘Non-Family’ data compare to responses filled by heads of Families?\n",
    "4. Where is household telephone access limited? How is this associated with various measures of wealth?\n",
    "5. What states and regions have higher or lower vehicle ownership? See `NUMBER OF VEHICLES`.\n",
    "\n",
    "If you'd like to learn more about  wealth in the United States, check out the following resources:\n",
    "1. [Where does your net worth rank in the United States?](https://www.nytimes.com/interactive/2019/08/12/upshot/are-you-rich-where-does-your-net-worth-rank-wealth.html) Data visualization by the *New York Times*. \n",
    "2. Consider taking Wealth & Poverty (PUBPOL C103) with former U.S. Secretary of Labor and current UC Berkeley professor Robert Reich. \n",
    "3. Consider taking Contemporary Theories of Political Economy (POLECON 101) with Professor Khalid Kadir (it's Data 8 GSI Maya's favorite class at Berkeley!).\n",
    "\n",
    "*Credit to Prof. Lexin Li, and his course Big Data: A Public Health Perspective (PBHLTH 244), for introducing the Data 8 staff to this dataset. Feel free to ask him about your path to upper division and graduate level biostatistics courses at UC Berkeley.* \n",
    "\n",
    "Don't forget to review the [Final Project Guidelines](https://docs.google.com/document/d/1NuHDYTdWGwhPNRov8Y3I8y6R7Rbyf-WDOfQwovD-gmw/edit?usp=sharing) for a complete list of requirements."
   ]
  },
  {
   "cell_type": "markdown",
   "metadata": {},
   "source": [
    "## Preview"
   ]
  },
  {
   "cell_type": "code",
   "execution_count": 3,
   "metadata": {},
   "outputs": [
    {
     "data": {
      "text/html": [
       "<table border=\"1\" class=\"dataframe\">\n",
       "    <thead>\n",
       "        <tr>\n",
       "            <th>ID</th> <th>REGION</th> <th>DIVISION</th> <th>STATE</th> <th>FAMILY INCOME</th> <th>HOUSEHOLD LANGUAGE</th> <th>HOUSEHOLD INCOME</th> <th>WORKERS IN FAMILY</th> <th>PERSONS IN FAMILY</th>\n",
       "        </tr>\n",
       "    </thead>\n",
       "    <tbody>\n",
       "        <tr>\n",
       "            <td>2009000089236</td> <td>South </td> <td>East South Central</td> <td>1    </td> <td>Non-Family   </td> <td>English only      </td> <td>9.81            </td> <td>Non-Family       </td> <td>Non-Family       </td>\n",
       "        </tr>\n",
       "        <tr>\n",
       "            <td>2009000311177</td> <td>South </td> <td>East South Central</td> <td>1    </td> <td>10.44        </td> <td>English only      </td> <td>10.44           </td> <td>1                </td> <td>2                </td>\n",
       "        </tr>\n",
       "        <tr>\n",
       "            <td>2009000426047</td> <td>South </td> <td>East South Central</td> <td>1    </td> <td>Non-Family   </td> <td>English only      </td> <td>9.88            </td> <td>Non-Family       </td> <td>Non-Family       </td>\n",
       "        </tr>\n",
       "        <tr>\n",
       "            <td>2009000448671</td> <td>South </td> <td>East South Central</td> <td>1    </td> <td>Non-Family   </td> <td>English only      </td> <td>11.53           </td> <td>Non-Family       </td> <td>Non-Family       </td>\n",
       "        </tr>\n",
       "        <tr>\n",
       "            <td>2009000523654</td> <td>South </td> <td>East South Central</td> <td>1    </td> <td>Non-Family   </td> <td>English only      </td> <td>10.12           </td> <td>Non-Family       </td> <td>Non-Family       </td>\n",
       "        </tr>\n",
       "        <tr>\n",
       "            <td>2009000742214</td> <td>South </td> <td>East South Central</td> <td>1    </td> <td>12.37        </td> <td>English only      </td> <td>12.37           </td> <td>1                </td> <td>2                </td>\n",
       "        </tr>\n",
       "        <tr>\n",
       "            <td>2009001335518</td> <td>South </td> <td>East South Central</td> <td>1    </td> <td>11.15        </td> <td>English only      </td> <td>11.15           </td> <td>3+               </td> <td>3                </td>\n",
       "        </tr>\n",
       "        <tr>\n",
       "            <td>2010000145521</td> <td>South </td> <td>East South Central</td> <td>1    </td> <td>10.11        </td> <td>English only      </td> <td>10.11           </td> <td>0                </td> <td>4                </td>\n",
       "        </tr>\n",
       "        <tr>\n",
       "            <td>2010000560424</td> <td>South </td> <td>East South Central</td> <td>1    </td> <td>11.78        </td> <td>English only      </td> <td>11.78           </td> <td>2                </td> <td>3                </td>\n",
       "        </tr>\n",
       "        <tr>\n",
       "            <td>2010000853150</td> <td>South </td> <td>East South Central</td> <td>1    </td> <td>Non-Family   </td> <td>English only      </td> <td>11.69           </td> <td>Non-Family       </td> <td>Non-Family       </td>\n",
       "        </tr>\n",
       "    </tbody>\n",
       "</table>\n",
       "<p>... (1190 rows omitted)</p>"
      ],
      "text/plain": [
       "ID            | REGION | DIVISION           | STATE | FAMILY INCOME | HOUSEHOLD LANGUAGE | HOUSEHOLD INCOME | WORKERS IN FAMILY | PERSONS IN FAMILY\n",
       "2009000089236 | South  | East South Central | 1     | Non-Family    | English only       | 9.81             | Non-Family        | Non-Family\n",
       "2009000311177 | South  | East South Central | 1     | 10.44         | English only       | 10.44            | 1                 | 2\n",
       "2009000426047 | South  | East South Central | 1     | Non-Family    | English only       | 9.88             | Non-Family        | Non-Family\n",
       "2009000448671 | South  | East South Central | 1     | Non-Family    | English only       | 11.53            | Non-Family        | Non-Family\n",
       "2009000523654 | South  | East South Central | 1     | Non-Family    | English only       | 10.12            | Non-Family        | Non-Family\n",
       "2009000742214 | South  | East South Central | 1     | 12.37         | English only       | 12.37            | 1                 | 2\n",
       "2009001335518 | South  | East South Central | 1     | 11.15         | English only       | 11.15            | 3+                | 3\n",
       "2010000145521 | South  | East South Central | 1     | 10.11         | English only       | 10.11            | 0                 | 4\n",
       "2010000560424 | South  | East South Central | 1     | 11.78         | English only       | 11.78            | 2                 | 3\n",
       "2010000853150 | South  | East South Central | 1     | Non-Family    | English only       | 11.69            | Non-Family        | Non-Family\n",
       "... (1190 rows omitted)"
      ]
     },
     "execution_count": 3,
     "metadata": {},
     "output_type": "execute_result"
    }
   ],
   "source": [
    "families_data = Table.read_table('data/families.csv').relabel(4, 'FAMILY INCOME').relabel(6, 'HOUSEHOLD INCOME')\n",
    "families_data"
   ]
  },
  {
   "cell_type": "code",
   "execution_count": 4,
   "metadata": {},
   "outputs": [
    {
     "data": {
      "text/html": [
       "<table border=\"1\" class=\"dataframe\">\n",
       "    <thead>\n",
       "        <tr>\n",
       "            <th>ID</th> <th>REGION</th> <th>DIVISION</th> <th>STATE</th> <th>PROPERTY VALUE</th> <th>MONTHLY RENT</th> <th>GROSS MONTHLY RENT</th> <th>OCCUPANCY STATUS</th> <th>NUMBER OF VEHICLES</th> <th>HOUSEHOLD TELEPHONE</th>\n",
       "        </tr>\n",
       "    </thead>\n",
       "    <tbody>\n",
       "        <tr>\n",
       "            <td>2009000089236</td> <td>South </td> <td>East South Central</td> <td>1    </td> <td>10860         </td> <td>Owner       </td> <td>Owner             </td> <td>Owned           </td> <td>1                 </td> <td>True               </td>\n",
       "        </tr>\n",
       "        <tr>\n",
       "            <td>2009000311177</td> <td>South </td> <td>East South Central</td> <td>1    </td> <td>43441         </td> <td>Owner       </td> <td>Owner             </td> <td>Owned with loan </td> <td>2                 </td> <td>True               </td>\n",
       "        </tr>\n",
       "        <tr>\n",
       "            <td>2009000426047</td> <td>South </td> <td>East South Central</td> <td>1    </td> <td>Renter        </td> <td>238         </td> <td>238               </td> <td>Rented          </td> <td>0                 </td> <td>True               </td>\n",
       "        </tr>\n",
       "        <tr>\n",
       "            <td>2009000448671</td> <td>South </td> <td>East South Central</td> <td>1    </td> <td>Renter        </td> <td>543         </td> <td>705               </td> <td>Rented          </td> <td>2                 </td> <td>True               </td>\n",
       "        </tr>\n",
       "        <tr>\n",
       "            <td>2009000523654</td> <td>South </td> <td>East South Central</td> <td>1    </td> <td>21720         </td> <td>Owner       </td> <td>Owner             </td> <td>Owned           </td> <td>2                 </td> <td>True               </td>\n",
       "        </tr>\n",
       "        <tr>\n",
       "            <td>2009000742214</td> <td>South </td> <td>East South Central</td> <td>1    </td> <td>141184        </td> <td>Owner       </td> <td>Owner             </td> <td>Owned with loan </td> <td>1                 </td> <td>True               </td>\n",
       "        </tr>\n",
       "        <tr>\n",
       "            <td>2009001335518</td> <td>South </td> <td>East South Central</td> <td>1    </td> <td>32580         </td> <td>Owner       </td> <td>Owner             </td> <td>Owned with loan </td> <td>0                 </td> <td>True               </td>\n",
       "        </tr>\n",
       "        <tr>\n",
       "            <td>2010000145521</td> <td>South </td> <td>East South Central</td> <td>1    </td> <td>74787         </td> <td>Owner       </td> <td>Owner             </td> <td>Owned with loan </td> <td>2                 </td> <td>True               </td>\n",
       "        </tr>\n",
       "        <tr>\n",
       "            <td>2010000560424</td> <td>South </td> <td>East South Central</td> <td>1    </td> <td>347228        </td> <td>Owner       </td> <td>Owner             </td> <td>Owned with loan </td> <td>3                 </td> <td>True               </td>\n",
       "        </tr>\n",
       "        <tr>\n",
       "            <td>2010000853150</td> <td>South </td> <td>East South Central</td> <td>1    </td> <td>48077         </td> <td>Owner       </td> <td>Owner             </td> <td>Owned           </td> <td>1                 </td> <td>True               </td>\n",
       "        </tr>\n",
       "    </tbody>\n",
       "</table>\n",
       "<p>... (1190 rows omitted)</p>"
      ],
      "text/plain": [
       "ID            | REGION | DIVISION           | STATE | PROPERTY VALUE | MONTHLY RENT | GROSS MONTHLY RENT | OCCUPANCY STATUS | NUMBER OF VEHICLES | HOUSEHOLD TELEPHONE\n",
       "2009000089236 | South  | East South Central | 1     | 10860          | Owner        | Owner              | Owned            | 1                  | True\n",
       "2009000311177 | South  | East South Central | 1     | 43441          | Owner        | Owner              | Owned with loan  | 2                  | True\n",
       "2009000426047 | South  | East South Central | 1     | Renter         | 238          | 238                | Rented           | 0                  | True\n",
       "2009000448671 | South  | East South Central | 1     | Renter         | 543          | 705                | Rented           | 2                  | True\n",
       "2009000523654 | South  | East South Central | 1     | 21720          | Owner        | Owner              | Owned            | 2                  | True\n",
       "2009000742214 | South  | East South Central | 1     | 141184         | Owner        | Owner              | Owned with loan  | 1                  | True\n",
       "2009001335518 | South  | East South Central | 1     | 32580          | Owner        | Owner              | Owned with loan  | 0                  | True\n",
       "2010000145521 | South  | East South Central | 1     | 74787          | Owner        | Owner              | Owned with loan  | 2                  | True\n",
       "2010000560424 | South  | East South Central | 1     | 347228         | Owner        | Owner              | Owned with loan  | 3                  | True\n",
       "2010000853150 | South  | East South Central | 1     | 48077          | Owner        | Owner              | Owned            | 1                  | True\n",
       "... (1190 rows omitted)"
      ]
     },
     "execution_count": 4,
     "metadata": {},
     "output_type": "execute_result"
    }
   ],
   "source": [
    "resources_data = Table.read_table('data/resources.csv').relabel(4, 'PROPERTY VALUE').relabel(5, 'MONTHLY RENT').relabel(6, 'GROSS MONTHLY RENT')\n",
    "resources_data"
   ]
  },
  {
   "cell_type": "code",
   "execution_count": 5,
   "metadata": {},
   "outputs": [
    {
     "data": {
      "text/html": [
       "<table border=\"1\" class=\"dataframe\">\n",
       "    <thead>\n",
       "        <tr>\n",
       "            <th>CODE</th> <th>FULL NAME</th> <th>ABRV</th>\n",
       "        </tr>\n",
       "    </thead>\n",
       "    <tbody>\n",
       "        <tr>\n",
       "            <td>1   </td> <td>Alabama             </td> <td>AL  </td>\n",
       "        </tr>\n",
       "        <tr>\n",
       "            <td>2   </td> <td>Alaska              </td> <td>AK  </td>\n",
       "        </tr>\n",
       "        <tr>\n",
       "            <td>4   </td> <td>Arizona             </td> <td>AZ  </td>\n",
       "        </tr>\n",
       "        <tr>\n",
       "            <td>5   </td> <td>Arkansas            </td> <td>AR  </td>\n",
       "        </tr>\n",
       "        <tr>\n",
       "            <td>6   </td> <td>California          </td> <td>CA  </td>\n",
       "        </tr>\n",
       "        <tr>\n",
       "            <td>8   </td> <td>Colorado            </td> <td>CO  </td>\n",
       "        </tr>\n",
       "        <tr>\n",
       "            <td>9   </td> <td>Connecticut         </td> <td>CT  </td>\n",
       "        </tr>\n",
       "        <tr>\n",
       "            <td>10  </td> <td>Delaware            </td> <td>DE  </td>\n",
       "        </tr>\n",
       "        <tr>\n",
       "            <td>11  </td> <td>District of Columbia</td> <td>DC  </td>\n",
       "        </tr>\n",
       "        <tr>\n",
       "            <td>12  </td> <td>Florida             </td> <td>FL  </td>\n",
       "        </tr>\n",
       "    </tbody>\n",
       "</table>\n",
       "<p>... (42 rows omitted)</p>"
      ],
      "text/plain": [
       "CODE | FULL NAME            | ABRV\n",
       "1    | Alabama              | AL\n",
       "2    | Alaska               | AK\n",
       "4    | Arizona              | AZ\n",
       "5    | Arkansas             | AR\n",
       "6    | California           | CA\n",
       "8    | Colorado             | CO\n",
       "9    | Connecticut          | CT\n",
       "10   | Delaware             | DE\n",
       "11   | District of Columbia | DC\n",
       "12   | Florida              | FL\n",
       "... (42 rows omitted)"
      ]
     },
     "execution_count": 5,
     "metadata": {},
     "output_type": "execute_result"
    }
   ],
   "source": [
    "states_data = Table.read_table('data/states.csv')\n",
    "states_data"
   ]
  },
  {
   "cell_type": "markdown",
   "metadata": {},
   "source": [
    "<br>\n",
    "\n",
    "# Research Report"
   ]
  },
  {
   "cell_type": "markdown",
   "metadata": {},
   "source": [
    "## Introduction\n",
    "\n",
    "*Replace this text with your introduction*"
   ]
  },
  {
   "cell_type": "markdown",
   "metadata": {},
   "source": [
    "## Hypothesis Testing and Prediction Questions\n",
    "\n",
    "### Hypothesis Testing Question\n",
    "For our hypothesis testing question **we wish to determine if there is a difference in family income between households where the language is English and households where the language is not English.**  \n",
    "Null Hypothesis: There is no difference in family income between households where the household language is English and households where the household language is not English  \n",
    "Alternative Hypothesis: There is a difference in household income between households where the household language is English and households where the household language is not English\n",
    "\n",
    "### Prediction Question\n",
    "For our prediction question, **we wish to determine if property value, family income, ratio of workers in family to the number of family members, and number of vehicles are a reasonable combination of predictors for household language**. We will K-Nearest Neighbors (using a portion of the data) to determine whether a household is English speaking or non-English speaking then use the rest of the data to determine whether or not the combination variables can predict household language. We may remove predictor variables if they harm the accuracy of the model."
   ]
  },
  {
   "cell_type": "markdown",
   "metadata": {},
   "source": [
    "## Exploratory Data Analysis\n",
    "\n",
    "**You may change the order of the plots and tables.**"
   ]
  },
  {
   "cell_type": "code",
   "execution_count": 33,
   "metadata": {},
   "outputs": [],
   "source": [
    "# JUST RUN THIS CELL\n",
    "# Select Necessary columns from families_data Table\n",
    "families_data = families_data.drop('REGION','DIVISION','STATE', 'HOUSEHOLD INCOME')\n",
    "\n",
    "# Select Necessary columns from resources_data Table\n",
    "resources_data = resources_data.select('ID','PROPERTY VALUE')\n",
    "\n",
    "# Remove Non-Family Observations from families_data Table\n",
    "'''Following method is a predicate for the .where() table method that selects for values that work as integers'''\n",
    "def contains_numerical_value(string_value):\n",
    "    if len(re.findall(\"\\\\d\", string_value)) > 0: # Returns True if one or more integers is found in the string\n",
    "        return True\n",
    "    return False # Returns False if no integers are in the string (i.e. the string is 'Non-Family' as opposed to 10.44)\n",
    "\n",
    "# Remove 'Non-Family' observations from table\n",
    "families_data = families_data.where('FAMILY INCOME',contains_numerical_value)\n",
    "\n",
    "# Remove Renter Observations from resources_data Table\n",
    "resources_data = resources_data.where('PROPERTY VALUE', contains_numerical_value)\n"
   ]
  },
  {
   "cell_type": "markdown",
   "metadata": {},
   "source": [
    "**Table Requiring a Join Operation**"
   ]
  },
  {
   "cell_type": "code",
   "execution_count": 34,
   "metadata": {},
   "outputs": [
    {
     "data": {
      "text/html": [
       "<table border=\"1\" class=\"dataframe\">\n",
       "    <thead>\n",
       "        <tr>\n",
       "            <th>ID</th> <th>FAMILY INCOME</th> <th>HOUSEHOLD LANGUAGE</th> <th>WORKERS IN FAMILY</th> <th>PERSONS IN FAMILY</th> <th>PROPERTY VALUE</th>\n",
       "        </tr>\n",
       "    </thead>\n",
       "    <tbody>\n",
       "        <tr>\n",
       "            <td>2009000021130</td> <td>11.98        </td> <td>Other Non-English </td> <td>2                </td> <td>2                </td> <td>135754        </td>\n",
       "        </tr>\n",
       "        <tr>\n",
       "            <td>2009000055450</td> <td>11.75        </td> <td>English only      </td> <td>1                </td> <td>2                </td> <td>162904        </td>\n",
       "        </tr>\n",
       "        <tr>\n",
       "            <td>2009000055870</td> <td>12.98        </td> <td>English only      </td> <td>1                </td> <td>2                </td> <td>271508        </td>\n",
       "        </tr>\n",
       "    </tbody>\n",
       "</table>\n",
       "<p>... (513 rows omitted)</p>"
      ],
      "text/plain": [
       "<IPython.core.display.HTML object>"
      ]
     },
     "metadata": {},
     "output_type": "display_data"
    }
   ],
   "source": [
    "# Joins resources_data and families_data\n",
    "families_and_property = families_data.join('ID', resources_data)\n",
    "families_and_property.show(3)"
   ]
  },
  {
   "cell_type": "markdown",
   "metadata": {},
   "source": [
    "*The following code is a bit of necessary type conversion. Sorry for the inconvenience but please run*"
   ]
  },
  {
   "cell_type": "code",
   "execution_count": 36,
   "metadata": {},
   "outputs": [],
   "source": [
    "# Convert appropriate columns from strings to floats or integers\n",
    "'''Following method checks if an item can be found in an array or list'''\n",
    "def contained_in(value, list_or_array):\n",
    "    for i in list_or_array:\n",
    "        if i == value:\n",
    "            return True\n",
    "    return False\n",
    "\n",
    "'''Following method converts all values in a table that appear to be numerical into a numerical type'''\n",
    "def format_numerical(tbl, omit = make_array()):\n",
    "    formatted_table = Table()\n",
    "    for column_index in np.arange(tbl.num_columns):\n",
    "        column = tbl.column(column_index)\n",
    "        new_column = make_array()\n",
    "        if contained_in(column_index, omit) == False:\n",
    "            for value in column:\n",
    "                if type(value) == str or type(value) == np.str_:\n",
    "                    if len(re.findall(\"\\\\d\", value)) > 0:\n",
    "                        if len(re.findall(\"\\\\+\", value)) > 0:\n",
    "                            value = value.replace('+','')\n",
    "                        if len(re.findall(\"\\\\.\", value)) > 0:\n",
    "                            new_column = np.append(new_column,float(value))\n",
    "                        else:\n",
    "                            new_column = np.append(new_column,int(value))\n",
    "                    else:\n",
    "                        new_column = np.append(new_column,value)\n",
    "                else:\n",
    "                    new_column = np.append(new_column, value)\n",
    "            formatted_table = formatted_table.with_column(tbl.labels[column_index], new_column)\n",
    "        else:\n",
    "            formatted_table = formatted_table.with_column(tbl.labels[column_index], tbl.column(column_index))\n",
    "    return formatted_table\n",
    "\n",
    "families_and_property = format_numerical(families_and_property, [0]) # Converts all numbers that are type string to type float\n"
   ]
  },
  {
   "cell_type": "markdown",
   "metadata": {},
   "source": [
    "**Quantitative Plot:**\n"
   ]
  },
  {
   "cell_type": "code",
   "execution_count": 38,
   "metadata": {},
   "outputs": [
    {
     "data": {
      "image/png": "[encoded data removed]",
      "text/plain": [
       "<Figure size 360x360 with 1 Axes>"
      ]
     },
     "metadata": {},
     "output_type": "display_data"
    }
   ],
   "source": [
    "# Use this cell to generate your quantitative plot\n",
    "# Scatter plot of English speaking and Non-English speaking households as a function of household income and property value\n",
    "\n",
    "income_language_property = families_and_property.select('FAMILY INCOME', 'HOUSEHOLD LANGUAGE','PROPERTY VALUE')\n",
    "income_language_property.scatter('PROPERTY VALUE', 'FAMILY INCOME', group='HOUSEHOLD LANGUAGE')"
   ]
  },
  {
   "cell_type": "code",
   "execution_count": 44,
   "metadata": {},
   "outputs": [
    {
     "data": {
      "text/plain": [
       "175644.5"
      ]
     },
     "execution_count": 44,
     "metadata": {},
     "output_type": "execute_result"
    }
   ],
   "source": [
    "np.median(income_language_property.column(2))"
   ]
  },
  {
   "cell_type": "markdown",
   "metadata": {},
   "source": [
    "*Replace this text with an analysis of your plot*"
   ]
  },
  {
   "cell_type": "markdown",
   "metadata": {},
   "source": [
    "**Qualitative Plot:**"
   ]
  },
  {
   "cell_type": "code",
   "execution_count": null,
   "metadata": {},
   "outputs": [],
   "source": [
    "# Use this cell to generate your qualitative plot\n",
    "..."
   ]
  },
  {
   "cell_type": "markdown",
   "metadata": {},
   "source": [
    "*Replace this text with an analysis of your plot*"
   ]
  },
  {
   "cell_type": "markdown",
   "metadata": {},
   "source": [
    "**Table Requiring a Join Operation**"
   ]
  },
  {
   "cell_type": "code",
   "execution_count": null,
   "metadata": {},
   "outputs": [],
   "source": [
    "# Remove Non-Family Rows\n"
   ]
  },
  {
   "cell_type": "markdown",
   "metadata": {},
   "source": [
    "*Replace this text with an analysis of your plot*"
   ]
  },
  {
   "cell_type": "markdown",
   "metadata": {},
   "source": [
    "**Aggregated Data Table:**"
   ]
  },
  {
   "cell_type": "code",
   "execution_count": 13,
   "metadata": {},
   "outputs": [],
   "source": [
    "# Use this cell to generate your aggregated data table\n",
    "# Remove Non-Family and Renter observations from families_data table and resources data table\n",
    "# .join() updated families_data table and resourced data table\n",
    "    # be careful to make sure removed observations from families_data table are removed from resources_data table\n",
    "# use .group() to compile table for A/B testing english vs non-english speaking households"
   ]
  },
  {
   "cell_type": "markdown",
   "metadata": {},
   "source": [
    "*Replace this text with an analysis of your plot*"
   ]
  },
  {
   "cell_type": "markdown",
   "metadata": {},
   "source": [
    "## Hypothesis Testing\n",
    "\n",
    "**Do not copy code from demo notebooks or homeworks! You may split portions of your code into distinct cells. Also, be sure to\n",
    "set a random seed so that your results are reproducible.**"
   ]
  },
  {
   "cell_type": "code",
   "execution_count": null,
   "metadata": {},
   "outputs": [],
   "source": [
    "# set the random seed so that results are reproducible\n",
    "random.seed(1231)\n",
    "\n",
    "# A/B Testing: two groups, Non-English (NE) speaking households and English (E) speaking households\n",
    "# Test Statistic: |mean income NE - mean income E|\n",
    "# Shuffle labels, recalculate test statistic\n",
    "# Generate histogram\n",
    "# Calculate p-value based on histogram and observed value; p-value cutoff of 0.05"
   ]
  },
  {
   "cell_type": "markdown",
   "metadata": {},
   "source": [
    "## Prediction\n",
    "\n",
    "**Be sure to set a random seed so that your results are reproducible.**"
   ]
  },
  {
   "cell_type": "code",
   "execution_count": null,
   "metadata": {},
   "outputs": [],
   "source": [
    "# set the random seed so that results are reproducible\n",
    "random.seed(1231)\n",
    "\n",
    "# Randomly sample (with replacement) 3/5 of observations for training, 2/5 for testing\n",
    "# Use testing to determine accuracy of predictors"
   ]
  },
  {
   "cell_type": "markdown",
   "metadata": {},
   "source": [
    "## Conclusion\n",
    "\n",
    "*Replace this text with your conclusion*"
   ]
  },
  {
   "cell_type": "markdown",
   "metadata": {},
   "source": [
    "## Presentation\n",
    "\n",
    "*In this section, you'll need to provide a link to your video presentation. If you've uploaded your presentation to YouTube,\n",
    "you can include the URL in the code below. We've provided an example to show you how to do this. Otherwise, provide the link\n",
    "in a markdown cell.*\n",
    "\n",
    "**Link:** *Replace this text with a link to your video presentation*"
   ]
  },
  {
   "cell_type": "code",
   "execution_count": 1,
   "metadata": {},
   "outputs": [
    {
     "ename": "NameError",
     "evalue": "name 'YouTubeVideo' is not defined",
     "output_type": "error",
     "traceback": [
      "\u001b[0;31m---------------------------------------------------------------------------\u001b[0m",
      "\u001b[0;31mNameError\u001b[0m                                 Traceback (most recent call last)",
      "\u001b[0;32m<ipython-input-1-efe713750917>\u001b[0m in \u001b[0;36m<module>\u001b[0;34m\u001b[0m\n\u001b[1;32m      1\u001b[0m \u001b[0;31m# Full Link: https://www.youtube.com/watch?v=BKgdDLrSC5s&feature=emb_logo\u001b[0m\u001b[0;34m\u001b[0m\u001b[0;34m\u001b[0m\u001b[0;34m\u001b[0m\u001b[0m\n\u001b[1;32m      2\u001b[0m \u001b[0;31m# Plug in string between \"v=\" and \"\"&feature\":\u001b[0m\u001b[0;34m\u001b[0m\u001b[0;34m\u001b[0m\u001b[0;34m\u001b[0m\u001b[0m\n\u001b[0;32m----> 3\u001b[0;31m \u001b[0mYouTubeVideo\u001b[0m\u001b[0;34m(\u001b[0m\u001b[0;34m'BKgdDLrSC5s'\u001b[0m\u001b[0;34m)\u001b[0m\u001b[0;34m\u001b[0m\u001b[0;34m\u001b[0m\u001b[0m\n\u001b[0m",
      "\u001b[0;31mNameError\u001b[0m: name 'YouTubeVideo' is not defined"
     ]
    }
   ],
   "source": [
    "# Full Link: https://www.youtube.com/watch?v=BKgdDLrSC5s&feature=emb_logo\n",
    "# Plug in string between \"v=\" and \"\"&feature\":\n",
    "YouTubeVideo('BKgdDLrSC5s')"
   ]
  },
  {
   "cell_type": "markdown",
   "metadata": {},
   "source": [
    "# Submission\n",
    "\n",
    "*Just as with the other assignments in this course, please submit your research notebook to Okpy. We suggest that you\n",
    "submit often so that your progress is saved.*"
   ]
  },
  {
   "cell_type": "code",
   "execution_count": null,
   "metadata": {},
   "outputs": [],
   "source": [
    "# Run this line to submit your work\n",
    "_ = ok.submit()"
   ]
  }
 ],
 "metadata": {
  "kernelspec": {
   "display_name": "Python 3",
   "language": "python",
   "name": "python3"
  },
  "language_info": {
   "codemirror_mode": {
    "name": "ipython",
    "version": 3
   },
   "file_extension": ".py",
   "mimetype": "text/x-python",
   "name": "python",
   "nbconvert_exporter": "python",
   "pygments_lexer": "ipython3",
   "version": "3.6.9"
  }
 },
 "nbformat": 4,
 "nbformat_minor": 4
}
